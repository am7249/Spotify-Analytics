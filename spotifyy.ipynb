{
 "cells": [
  {
   "cell_type": "code",
   "execution_count": 1,
   "metadata": {},
   "outputs": [],
   "source": [
    "import spotipy\n",
    "import spotipy.util as util\n",
    "from spotipy.oauth2 import SpotifyClientCredentials "
   ]
  },
  {
   "cell_type": "code",
   "execution_count": 2,
   "metadata": {},
   "outputs": [],
   "source": [
    "client_id = \"09c567afd5784427b568ce3994c57bbc\" \n",
    "client_secret = \"626ee57c77b540a882e77568b96cf647\""
   ]
  },
  {
   "cell_type": "code",
   "execution_count": 16,
   "metadata": {},
   "outputs": [],
   "source": [
    "def establish_spotify_connection():\n",
    "    username = \"\"\n",
    "    client_credentials_manager = SpotifyClientCredentials(client_id=client_id, client_secret=client_secret) \n",
    "    sp = spotipy.Spotify(client_credentials_manager=client_credentials_manager)\n",
    "    scope = 'user-library-read playlist-read-private'\n",
    "    token = util.prompt_for_user_token(username, scope='user-library-read playlist-read-private',\\\n",
    "                                       client_id=\"09c567afd5784427b568ce3994c57bbc\",\\\n",
    "                                       client_secret=\"626ee57c77b540a882e77568b96cf647\", \\\n",
    "                                       redirect_uri='https://localhost:8888/callback/')\n",
    "    if token:\n",
    "        sp = spotipy.Spotify(auth=token)\n",
    "        return sp\n",
    "    else:\n",
    "        print(\"Can't get token for\", username)\n"
   ]
  },
  {
   "cell_type": "code",
   "execution_count": 17,
   "metadata": {},
   "outputs": [],
   "source": [
    "def fetch_audio_features(ids_array,song_type):\n",
    "    sp = establish_spotify_connection() #only call this\n",
    "\n",
    "    features = []\n",
    "    for i in range(0,len(ids_array),50):\n",
    "        audio_features = sp.audio_features(ids_array[i:i+50])\n",
    "        for track in audio_features:\n",
    "            features.append(track)\n",
    "            if song_type == \"like\":\n",
    "                features[-1]['label'] = 1\n",
    "            else:\n",
    "                features[-1]['label'] = 0\n",
    "\n",
    "\n",
    "    return features"
   ]
  },
  {
   "cell_type": "code",
   "execution_count": 18,
   "metadata": {},
   "outputs": [],
   "source": [
    "sp = establish_spotify_connection()\n",
    "audio_features = sp.audio_features('0FE9t6xYkqWXU2ahLh6D8X')"
   ]
  },
  {
   "cell_type": "code",
   "execution_count": 7,
   "metadata": {},
   "outputs": [
    {
     "data": {
      "text/plain": [
       "[{'danceability': 0.825,\n",
       "  'energy': 0.652,\n",
       "  'key': 1,\n",
       "  'loudness': -3.183,\n",
       "  'mode': 0,\n",
       "  'speechiness': 0.0802,\n",
       "  'acousticness': 0.581,\n",
       "  'instrumentalness': 0,\n",
       "  'liveness': 0.0931,\n",
       "  'valence': 0.931,\n",
       "  'tempo': 95.977,\n",
       "  'type': 'audio_features',\n",
       "  'id': '0FE9t6xYkqWXU2ahLh6D8X',\n",
       "  'uri': 'spotify:track:0FE9t6xYkqWXU2ahLh6D8X',\n",
       "  'track_href': 'https://api.spotify.com/v1/tracks/0FE9t6xYkqWXU2ahLh6D8X',\n",
       "  'analysis_url': 'https://api.spotify.com/v1/audio-analysis/0FE9t6xYkqWXU2ahLh6D8X',\n",
       "  'duration_ms': 233713,\n",
       "  'time_signature': 4}]"
      ]
     },
     "execution_count": 7,
     "metadata": {},
     "output_type": "execute_result"
    }
   ],
   "source": [
    "audio_features"
   ]
  },
  {
   "cell_type": "code",
   "execution_count": 52,
   "metadata": {},
   "outputs": [],
   "source": [
    "import pandas as pd"
   ]
  },
  {
   "cell_type": "code",
   "execution_count": 54,
   "metadata": {},
   "outputs": [],
   "source": [
    "x = pd.DataFrame(audio_features)"
   ]
  },
  {
   "cell_type": "code",
   "execution_count": 55,
   "metadata": {},
   "outputs": [
    {
     "data": {
      "text/plain": [
       "Index(['acousticness', 'analysis_url', 'danceability', 'duration_ms', 'energy',\n",
       "       'id', 'instrumentalness', 'key', 'liveness', 'loudness', 'mode',\n",
       "       'speechiness', 'tempo', 'time_signature', 'track_href', 'type', 'uri',\n",
       "       'valence'],\n",
       "      dtype='object')"
      ]
     },
     "execution_count": 55,
     "metadata": {},
     "output_type": "execute_result"
    }
   ],
   "source": [
    "x.keys()"
   ]
  },
  {
   "cell_type": "code",
   "execution_count": 56,
   "metadata": {},
   "outputs": [
    {
     "data": {
      "text/html": [
       "<div>\n",
       "<style scoped>\n",
       "    .dataframe tbody tr th:only-of-type {\n",
       "        vertical-align: middle;\n",
       "    }\n",
       "\n",
       "    .dataframe tbody tr th {\n",
       "        vertical-align: top;\n",
       "    }\n",
       "\n",
       "    .dataframe thead th {\n",
       "        text-align: right;\n",
       "    }\n",
       "</style>\n",
       "<table border=\"1\" class=\"dataframe\">\n",
       "  <thead>\n",
       "    <tr style=\"text-align: right;\">\n",
       "      <th></th>\n",
       "      <th>acousticness</th>\n",
       "      <th>analysis_url</th>\n",
       "      <th>danceability</th>\n",
       "      <th>duration_ms</th>\n",
       "      <th>energy</th>\n",
       "      <th>id</th>\n",
       "      <th>instrumentalness</th>\n",
       "      <th>key</th>\n",
       "      <th>liveness</th>\n",
       "      <th>loudness</th>\n",
       "      <th>mode</th>\n",
       "      <th>speechiness</th>\n",
       "      <th>tempo</th>\n",
       "      <th>time_signature</th>\n",
       "      <th>track_href</th>\n",
       "      <th>type</th>\n",
       "      <th>uri</th>\n",
       "      <th>valence</th>\n",
       "    </tr>\n",
       "  </thead>\n",
       "  <tbody>\n",
       "    <tr>\n",
       "      <th>0</th>\n",
       "      <td>0.581</td>\n",
       "      <td>https://api.spotify.com/v1/audio-analysis/0FE9...</td>\n",
       "      <td>0.825</td>\n",
       "      <td>233713</td>\n",
       "      <td>0.652</td>\n",
       "      <td>0FE9t6xYkqWXU2ahLh6D8X</td>\n",
       "      <td>0</td>\n",
       "      <td>1</td>\n",
       "      <td>0.0931</td>\n",
       "      <td>-3.183</td>\n",
       "      <td>0</td>\n",
       "      <td>0.0802</td>\n",
       "      <td>95.977</td>\n",
       "      <td>4</td>\n",
       "      <td>https://api.spotify.com/v1/tracks/0FE9t6xYkqWX...</td>\n",
       "      <td>audio_features</td>\n",
       "      <td>spotify:track:0FE9t6xYkqWXU2ahLh6D8X</td>\n",
       "      <td>0.931</td>\n",
       "    </tr>\n",
       "  </tbody>\n",
       "</table>\n",
       "</div>"
      ],
      "text/plain": [
       "   acousticness                                       analysis_url  \\\n",
       "0         0.581  https://api.spotify.com/v1/audio-analysis/0FE9...   \n",
       "\n",
       "   danceability  duration_ms  energy                      id  \\\n",
       "0         0.825       233713   0.652  0FE9t6xYkqWXU2ahLh6D8X   \n",
       "\n",
       "   instrumentalness  key  liveness  loudness  mode  speechiness   tempo  \\\n",
       "0                 0    1    0.0931    -3.183     0       0.0802  95.977   \n",
       "\n",
       "   time_signature                                         track_href  \\\n",
       "0               4  https://api.spotify.com/v1/tracks/0FE9t6xYkqWX...   \n",
       "\n",
       "             type                                   uri  valence  \n",
       "0  audio_features  spotify:track:0FE9t6xYkqWXU2ahLh6D8X    0.931  "
      ]
     },
     "execution_count": 56,
     "metadata": {},
     "output_type": "execute_result"
    }
   ],
   "source": [
    "x"
   ]
  },
  {
   "cell_type": "code",
   "execution_count": null,
   "metadata": {},
   "outputs": [],
   "source": []
  }
 ],
 "metadata": {
  "kernelspec": {
   "display_name": "Python 3",
   "language": "python",
   "name": "python3"
  },
  "language_info": {
   "codemirror_mode": {
    "name": "ipython",
    "version": 3
   },
   "file_extension": ".py",
   "mimetype": "text/x-python",
   "name": "python",
   "nbconvert_exporter": "python",
   "pygments_lexer": "ipython3",
   "version": "3.7.3"
  }
 },
 "nbformat": 4,
 "nbformat_minor": 2
}
